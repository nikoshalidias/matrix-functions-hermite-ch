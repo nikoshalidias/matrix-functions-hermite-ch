{
  "cells": [
    {
      "cell_type": "markdown",
      "metadata": {
        "id": "myL4EDgvi8oy"
      },
      "source": [
        "# Matrix Functions via Real Hermite/CH Systems\n",
        "\n",
        "This notebook demonstrates how to compute symbolic matrix functions $A^n$, $\\exp(tA)$, and the Drazin inverse using real Hermite systems and the Cayley-Hamilton approach. All results are displayed with LaTeX/MathJax for readability.\n",
        "\n",
        "The theory behind this can be found at the following paper.\n",
        "\n",
        "[Computing the Minimum Polynomial, the Function and the Drazin Inverse of a Matrix with Matlab](https://journalajrcos.com/index.php/AJRCOS/article/view/433)"
      ]
    },
    {
      "cell_type": "markdown",
      "metadata": {
        "id": "l-PzJNSwi8o6"
      },
      "source": [
        "## Cell 1: Library definitions\n",
        "We define helper functions to compute minimal polynomials, factor them, split real and complex roots, build the Hermite system, and evaluate matrix functions symbolically."
      ]
    },
    {
      "cell_type": "code",
      "execution_count": 1,
      "metadata": {
        "id": "k5UsKrEti8o7"
      },
      "outputs": [],
      "source": [
        "# ===== Colab Cell 1: Library (real-only Hermite/CH with symbolic n, t) =====\n",
        "import sympy as sp\n",
        "x = sp.Symbol('x')\n",
        "I = sp.I\n",
        "\n",
        "# ---------- helpers ----------\n",
        "def vec_col_major(M):\n",
        "    M = sp.Matrix(M)\n",
        "    n, m = M.shape\n",
        "    return sp.Matrix(n*m, 1, lambda i, _: M[i % n, i // n])\n",
        "\n",
        "def evaluate_on_matrix(A, coeffs):\n",
        "    A = sp.Matrix(A)\n",
        "    m = A.shape[0]\n",
        "    res = sp.zeros(m)\n",
        "    P = sp.eye(m)\n",
        "    for k, ak in enumerate(coeffs):\n",
        "        if k == 0:\n",
        "            res += ak * sp.eye(m)\n",
        "        else:\n",
        "            P = P * A\n",
        "            res += ak * P\n",
        "    return sp.simplify(res)\n",
        "\n",
        "# ---------- minimal polynomial via linear system ----------\n",
        "def minimal_polynomial_via_linear(A):\n",
        "    A = sp.Matrix(A)\n",
        "    n = A.shape[0]\n",
        "    for q in range(1, n+1):\n",
        "        B_cols = [vec_col_major(A**k) for k in range(q)]\n",
        "        B = sp.Matrix.hstack(*B_cols)\n",
        "        b = vec_col_major(A**q)\n",
        "        sol = sp.linsolve((B, -b))\n",
        "        if sol != sp.EmptySet:\n",
        "            c = list(next(iter(sol)))\n",
        "            poly = x**q + sum(c[k] * x**k for k in range(q))\n",
        "            return sp.poly(sp.factor(poly), x).monic()\n",
        "    try:\n",
        "        expr = A.minimal_polynomial(x)\n",
        "        return sp.poly(expr, x).monic()\n",
        "    except Exception:\n",
        "        return A.charpoly(x).as_poly().monic()\n",
        "\n",
        "def factor_minpoly(mA):\n",
        "    expr = sp.factor(mA.as_expr())\n",
        "    _, plist = sp.factor_list(expr)\n",
        "    roots, mults = [], []\n",
        "    for p, e in plist:\n",
        "        inner = sp.roots(p)\n",
        "        for lam, mr in inner.items():\n",
        "            roots.append(sp.nsimplify(lam))\n",
        "            mults.append(e * mr)\n",
        "    return roots, mults\n",
        "\n",
        "def split_real_conj(roots, mults):\n",
        "    used = [False]*len(roots)\n",
        "    reals, pairs, fallback = [], [], False\n",
        "    for i, (ri, mi) in enumerate(zip(roots, mults)):\n",
        "        if used[i]:\n",
        "            continue\n",
        "        if sp.simplify(sp.im(ri)) == 0:\n",
        "            reals.append((sp.nsimplify(ri), mi))\n",
        "            used[i] = True\n",
        "        else:\n",
        "            ci = sp.conjugate(ri)\n",
        "            j_found = None\n",
        "            for j in range(i+1, len(roots)):\n",
        "                if not used[j] and sp.simplify(roots[j] - ci) == 0 and mults[j] == mi:\n",
        "                    j_found = j\n",
        "                    break\n",
        "            if j_found is None:\n",
        "                fallback = True\n",
        "                used[i] = True\n",
        "            else:\n",
        "                if sp.im(ri) < 0:\n",
        "                    ri = ci\n",
        "                pairs.append((sp.nsimplify(ri), mi))\n",
        "                used[i] = True\n",
        "                used[j_found] = True\n",
        "    return reals, pairs, fallback\n",
        "\n",
        "def real_hermite_system(A, roots, mults, mode, n=None, t=None):\n",
        "    reals, pairs, fallback = split_real_conj(roots, mults)\n",
        "    q = sum(mults)\n",
        "    rows, rhs = [], []\n",
        "\n",
        "    fact = sp.factorial\n",
        "    ff   = sp.FallingFactorial\n",
        "\n",
        "    for lam, r in reals:\n",
        "        for j in range(r):\n",
        "            row = [ (fact(k)//fact(k-j) * lam**(k-j) if k>=j else 0) for k in range(q) ]\n",
        "            rows.append(row)\n",
        "            if mode == 'power':\n",
        "                rhs.append(sp.simplify(ff(n, j) * lam**(n - j)))\n",
        "            elif mode == 'exp':\n",
        "                rhs.append(sp.simplify((t**j) * sp.exp(t*lam)))\n",
        "            elif mode == 'inv':\n",
        "                rhs.append(0 if sp.simplify(lam)==0 else ((-1)**j)*fact(j)/lam**(j+1))\n",
        "            else:\n",
        "                raise ValueError(\"mode?\")\n",
        "\n",
        "    for z, rmult in pairs:\n",
        "        rho, theta = sp.Abs(z), sp.arg(z)\n",
        "        for j in range(rmult):\n",
        "            rowR, rowI = [], []\n",
        "            for k in range(q):\n",
        "                if k < j:\n",
        "                    rowR.append(0); rowI.append(0)\n",
        "                else:\n",
        "                    m = k - j\n",
        "                    c = fact(k)//fact(k-j)\n",
        "                    rowR.append(c * rho**m * sp.cos(m*theta))\n",
        "                    rowI.append(c * rho**m * sp.sin(m*theta))\n",
        "            rows += [rowR, rowI]\n",
        "            if mode == 'power':\n",
        "                p  = n - j\n",
        "                coef = ff(n, j)\n",
        "                rhs += [ sp.simplify(coef * rho**p * sp.cos(p*theta)),\n",
        "                         sp.simplify(coef * rho**p * sp.sin(p*theta)) ]\n",
        "            elif mode == 'exp':\n",
        "                rhs += [ sp.simplify((t**j)*sp.exp(t*rho*sp.cos(theta))*sp.cos(t*rho*sp.sin(theta))),\n",
        "                         sp.simplify((t**j)*sp.exp(t*rho*sp.cos(theta))*sp.sin(t*rho*sp.sin(theta))) ]\n",
        "            elif mode == 'inv':\n",
        "                p   = -(j+1)\n",
        "                coef = ((-1)**j)*fact(j)\n",
        "                rhs += [ sp.simplify(coef * rho**p * sp.cos(p*theta)),\n",
        "                         sp.simplify(coef * rho**p * sp.sin(p*theta)) ]\n",
        "            else:\n",
        "                raise ValueError(\"mode?\")\n",
        "\n",
        "    M = sp.Matrix(rows)\n",
        "    y = sp.Matrix(rhs)\n",
        "    assert M.shape == (q, q)\n",
        "    return M, y, fallback\n",
        "\n",
        "def matfun_real_hermite(A, mode, n=None, t=None):\n",
        "    A = sp.Matrix(A)\n",
        "    mA = minimal_polynomial_via_linear(A)\n",
        "    roots, mults = factor_minpoly(mA)\n",
        "    M, y, _ = real_hermite_system(A, roots, mults, mode, n=n, t=t)\n",
        "    coeffs = list(M.LUsolve(y))\n",
        "    return evaluate_on_matrix(A, coeffs)\n",
        "\n",
        "def power_via_CH_symbolic(A, n_symbol=None):\n",
        "    n = n_symbol or sp.Symbol('n', integer=True)\n",
        "    return sp.simplify(matfun_real_hermite(A, 'power', n=n))\n",
        "\n",
        "def exp_via_CH_symbolic(A, t_symbol=None):\n",
        "    t = t_symbol or sp.Symbol('t', real=True)\n",
        "    return sp.simplify(matfun_real_hermite(A, 'exp', t=t))\n",
        "\n",
        "def drazin_via_hermite(A):\n",
        "    return sp.simplify(matfun_real_hermite(A, 'inv'))"
      ]
    },
    {
      "cell_type": "markdown",
      "metadata": {
        "id": "6zsbzFari8o_"
      },
      "source": [
        "## Cell 2: Symbolic demonstrations\n",
        "We compute symbolic powers and exponentials for example matrices, as well as the Drazin inverse for a singular matrix. Results are displayed with LaTeX/MathJax."
      ]
    },
    {
      "cell_type": "code",
      "execution_count": 2,
      "metadata": {
        "colab": {
          "base_uri": "https://localhost:8080/",
          "height": 454
        },
        "id": "Vb_BAhiZi8o_",
        "outputId": "33bd33e7-95c1-4452-c38b-e94321be1ebc"
      },
      "outputs": [
        {
          "output_type": "display_data",
          "data": {
            "text/plain": [
              "<IPython.core.display.Math object>"
            ],
            "text/latex": "$\\displaystyle A^n = \\left[\\begin{matrix}11^{\\frac{n}{2}} \\cos{\\left(n \\operatorname{atan}{\\left(\\frac{\\sqrt{2}}{3} \\right)} \\right)} & 11^{\\frac{n}{2}} \\sqrt{2} \\sin{\\left(n \\operatorname{atan}{\\left(\\frac{\\sqrt{2}}{3} \\right)} \\right)}\\\\- \\frac{11^{\\frac{n}{2}} \\sqrt{2} \\sin{\\left(n \\operatorname{atan}{\\left(\\frac{\\sqrt{2}}{3} \\right)} \\right)}}{2} & 11^{\\frac{n}{2}} \\cos{\\left(n \\operatorname{atan}{\\left(\\frac{\\sqrt{2}}{3} \\right)} \\right)}\\end{matrix}\\right]$"
          },
          "metadata": {}
        },
        {
          "output_type": "display_data",
          "data": {
            "text/plain": [
              "<IPython.core.display.Math object>"
            ],
            "text/latex": "$\\displaystyle \\exp(tA) = \\left[\\begin{matrix}e^{3 t} \\cos{\\left(\\sqrt{2} t \\right)} & \\sqrt{2} e^{3 t} \\sin{\\left(\\sqrt{2} t \\right)}\\\\- \\frac{\\sqrt{2} e^{3 t} \\sin{\\left(\\sqrt{2} t \\right)}}{2} & e^{3 t} \\cos{\\left(\\sqrt{2} t \\right)}\\end{matrix}\\right]$"
          },
          "metadata": {}
        },
        {
          "output_type": "display_data",
          "data": {
            "text/plain": [
              "<IPython.core.display.Math object>"
            ],
            "text/latex": "$\\displaystyle P^n = \\left[\\begin{matrix}\\frac{3^{- n} \\left(3^{n} - 4 \\sqrt{3} \\sin{\\left(\\frac{\\pi n}{3} \\right)} + 6 \\cos{\\left(\\frac{\\pi n}{3} \\right)}\\right)}{7} & \\frac{3^{1 - n} \\left(3^{n} + 3 \\sqrt{3} \\sin{\\left(\\frac{\\pi n}{3} \\right)} - \\cos{\\left(\\frac{\\pi n}{3} \\right)}\\right)}{7} & \\frac{3^{\\frac{1}{2} - n} \\left(\\sqrt{3} \\left(3^{n} - \\cos{\\left(\\frac{\\pi n}{3} \\right)}\\right) - 5 \\sin{\\left(\\frac{\\pi n}{3} \\right)}\\right)}{7}\\\\\\frac{3^{\\frac{1}{2} - n} \\left(\\sqrt{3} \\left(3^{n} - \\cos{\\left(\\frac{\\pi n}{3} \\right)}\\right) - 5 \\sin{\\left(\\frac{\\pi n}{3} \\right)}\\right)}{21} & \\frac{3^{- n} \\left(3^{n + 1} + 2 \\sqrt{3} \\sin{\\left(\\frac{\\pi n}{3} \\right)} + 4 \\cos{\\left(\\frac{\\pi n}{3} \\right)}\\right)}{7} & \\frac{3^{- n} \\left(9 \\cdot 3^{n} - \\sqrt{3} \\sin{\\left(\\frac{\\pi n}{3} \\right)} - 9 \\cos{\\left(\\frac{\\pi n}{3} \\right)}\\right)}{21}\\\\\\frac{3^{- n} \\left(3^{n} + 3 \\sqrt{3} \\sin{\\left(\\frac{\\pi n}{3} \\right)} - \\cos{\\left(\\frac{\\pi n}{3} \\right)}\\right)}{7} & \\frac{3^{\\frac{1}{2} - n} \\left(\\sqrt{3} \\left(3^{n} - \\cos{\\left(\\frac{\\pi n}{3} \\right)}\\right) - 5 \\sin{\\left(\\frac{\\pi n}{3} \\right)}\\right)}{7} & \\frac{3^{- n} \\left(3^{n + 1} + 2 \\sqrt{3} \\sin{\\left(\\frac{\\pi n}{3} \\right)} + 4 \\cos{\\left(\\frac{\\pi n}{3} \\right)}\\right)}{7}\\end{matrix}\\right]$"
          },
          "metadata": {}
        },
        {
          "output_type": "display_data",
          "data": {
            "text/plain": [
              "<IPython.core.display.Math object>"
            ],
            "text/latex": "$\\displaystyle \\exp(tP) = \\left[\\begin{matrix}- \\frac{4 \\sqrt{3} e^{\\frac{t}{6}} \\sin{\\left(\\frac{\\sqrt{3} t}{6} \\right)}}{7} + \\frac{6 e^{\\frac{t}{6}} \\cos{\\left(\\frac{\\sqrt{3} t}{6} \\right)}}{7} + \\frac{e^{t}}{7} & \\frac{9 \\sqrt{3} e^{\\frac{t}{6}} \\sin{\\left(\\frac{\\sqrt{3} t}{6} \\right)}}{7} - \\frac{3 e^{\\frac{t}{6}} \\cos{\\left(\\frac{\\sqrt{3} t}{6} \\right)}}{7} + \\frac{3 e^{t}}{7} & - \\frac{5 \\sqrt{3} e^{\\frac{t}{6}} \\sin{\\left(\\frac{\\sqrt{3} t}{6} \\right)}}{7} - \\frac{3 e^{\\frac{t}{6}} \\cos{\\left(\\frac{\\sqrt{3} t}{6} \\right)}}{7} + \\frac{3 e^{t}}{7}\\\\- \\frac{5 \\sqrt{3} e^{\\frac{t}{6}} \\sin{\\left(\\frac{\\sqrt{3} t}{6} \\right)}}{21} - \\frac{e^{\\frac{t}{6}} \\cos{\\left(\\frac{\\sqrt{3} t}{6} \\right)}}{7} + \\frac{e^{t}}{7} & \\frac{2 \\sqrt{3} e^{\\frac{t}{6}} \\sin{\\left(\\frac{\\sqrt{3} t}{6} \\right)}}{7} + \\frac{4 e^{\\frac{t}{6}} \\cos{\\left(\\frac{\\sqrt{3} t}{6} \\right)}}{7} + \\frac{3 e^{t}}{7} & - \\frac{\\sqrt{3} e^{\\frac{t}{6}} \\sin{\\left(\\frac{\\sqrt{3} t}{6} \\right)}}{21} - \\frac{3 e^{\\frac{t}{6}} \\cos{\\left(\\frac{\\sqrt{3} t}{6} \\right)}}{7} + \\frac{3 e^{t}}{7}\\\\\\frac{3 \\sqrt{3} e^{\\frac{t}{6}} \\sin{\\left(\\frac{\\sqrt{3} t}{6} \\right)}}{7} - \\frac{e^{\\frac{t}{6}} \\cos{\\left(\\frac{\\sqrt{3} t}{6} \\right)}}{7} + \\frac{e^{t}}{7} & - \\frac{5 \\sqrt{3} e^{\\frac{t}{6}} \\sin{\\left(\\frac{\\sqrt{3} t}{6} \\right)}}{7} - \\frac{3 e^{\\frac{t}{6}} \\cos{\\left(\\frac{\\sqrt{3} t}{6} \\right)}}{7} + \\frac{3 e^{t}}{7} & \\frac{2 \\sqrt{3} e^{\\frac{t}{6}} \\sin{\\left(\\frac{\\sqrt{3} t}{6} \\right)}}{7} + \\frac{4 e^{\\frac{t}{6}} \\cos{\\left(\\frac{\\sqrt{3} t}{6} \\right)}}{7} + \\frac{3 e^{t}}{7}\\end{matrix}\\right]$"
          },
          "metadata": {}
        },
        {
          "output_type": "display_data",
          "data": {
            "text/plain": [
              "<IPython.core.display.Math object>"
            ],
            "text/latex": "$\\displaystyle C^D = \\left[\\begin{matrix}\\frac{1}{5} & \\frac{2}{5} & \\frac{2}{5}\\\\\\frac{3}{5} & \\frac{6}{5} & - \\frac{4}{5}\\\\- \\frac{1}{5} & - \\frac{2}{5} & \\frac{8}{5}\\end{matrix}\\right]$"
          },
          "metadata": {}
        },
        {
          "output_type": "display_data",
          "data": {
            "text/plain": [
              "<IPython.core.display.Math object>"
            ],
            "text/latex": "$\\displaystyle A^5 = \\left[\\begin{matrix}121 \\sqrt{11} \\cos{\\left(5 \\operatorname{atan}{\\left(\\frac{\\sqrt{2}}{3} \\right)} \\right)} & 121 \\sqrt{22} \\sin{\\left(5 \\operatorname{atan}{\\left(\\frac{\\sqrt{2}}{3} \\right)} \\right)}\\\\- \\frac{121 \\sqrt{22} \\sin{\\left(5 \\operatorname{atan}{\\left(\\frac{\\sqrt{2}}{3} \\right)} \\right)}}{2} & 121 \\sqrt{11} \\cos{\\left(5 \\operatorname{atan}{\\left(\\frac{\\sqrt{2}}{3} \\right)} \\right)}\\end{matrix}\\right]$"
          },
          "metadata": {}
        }
      ],
      "source": [
        "import sympy as sp\n",
        "from IPython.display import display, Math\n",
        "sp.init_printing(use_latex='mathjax')\n",
        "\n",
        "n = sp.Symbol('n', integer=True)\n",
        "t = sp.Symbol('t', real=True)\n",
        "\n",
        "# Example 1: 2x2 with complex spectrum ? A^n symbolic\n",
        "A = sp.Matrix([[3, 2],\n",
        "               [-1, 3]])\n",
        "A_n = sp.simplify(power_via_CH_symbolic(A, n))\n",
        "display(Math(r\"A^n = \" + sp.latex(A_n)))\n",
        "\n",
        "EtA = sp.simplify(exp_via_CH_symbolic(A, t))\n",
        "display(Math(r\"\\exp(tA) = \" + sp.latex(EtA)))\n",
        "\n",
        "# Example 2: 3x3 stochastic matrix\n",
        "P = sp.Matrix([[0, 1, 0],\n",
        "               [0, sp.Rational(2,3), sp.Rational(1,3)],\n",
        "               [sp.Rational(1,3), 0, sp.Rational(2,3)]])\n",
        "P_n = sp.simplify(power_via_CH_symbolic(P, n))\n",
        "display(Math(r\"P^n = \" + sp.latex(P_n)))\n",
        "\n",
        "E_tP = sp.simplify(exp_via_CH_symbolic(P, t))\n",
        "display(Math(r\"\\exp(tP) = \" + sp.latex(E_tP)))\n",
        "\n",
        "# Example 3: Drazin inverse\n",
        "C = sp.Matrix([[sp.Rational(1,5),  sp.Rational(2,5),  sp.Rational(2,5)],\n",
        "               [sp.Rational(3,10), sp.Rational(3,5),  sp.Rational(1,10)],\n",
        "               [sp.Rational(1,10), sp.Rational(1,5),  sp.Rational(7,10)]])\n",
        "C_D = sp.simplify(drazin_via_hermite(C))\n",
        "display(Math(r\"C^D = \" + sp.latex(C_D)))\n",
        "\n",
        "# Sanity check: A^5\n",
        "A5 = sp.simplify(A_n.subs(n, 5))\n",
        "display(Math(r\"A^5 = \" + sp.latex(A5)))"
      ]
    },
    {
      "cell_type": "markdown",
      "metadata": {
        "id": "oLu8DjBEi8pB"
      },
      "source": [
        "## Cell 3: Minimal polynomial vs characteristic polynomial\n",
        "We compare minimal and characteristic polynomials for several matrices, showing degrees and divisibility $m_A \\mid \\chi_A$."
      ]
    },
    {
      "cell_type": "code",
      "execution_count": 3,
      "metadata": {
        "colab": {
          "base_uri": "https://localhost:8080/"
        },
        "id": "6TVlTNA3i8pC",
        "outputId": "4f9230c3-e838-431b-8033-3b670206a4ca"
      },
      "outputs": [
        {
          "output_type": "stream",
          "name": "stdout",
          "text": [
            "\n",
            "Jordan block 3x3 with eigenvalue 2:\n",
            "⎡2  1  0⎤\n",
            "⎢       ⎥\n",
            "⎢0  2  1⎥\n",
            "⎢       ⎥\n",
            "⎣0  0  2⎦\n",
            "m_A(x) = x**3 - 6*x**2 + 12*x - 8\n",
            "?_A(x) = x**3 - 6*x**2 + 12*x - 8\n",
            "Degrees: deg(m_A) = 3 , deg(?_A) = 3\n",
            "Does m_A divide ?_A? True\n",
            "\n",
            "Diagonal with eigenvalues 2,3:\n",
            "⎡2  0⎤\n",
            "⎢    ⎥\n",
            "⎣0  3⎦\n",
            "m_A(x) = x**2 - 5*x + 6\n",
            "?_A(x) = x**2 - 5*x + 6\n",
            "Degrees: deg(m_A) = 2 , deg(?_A) = 2\n",
            "Does m_A divide ?_A? True\n",
            "\n",
            "Diagonal with double eigenvalue 2 and one eigenvalue 3:\n",
            "⎡2  0  0⎤\n",
            "⎢       ⎥\n",
            "⎢0  2  0⎥\n",
            "⎢       ⎥\n",
            "⎣0  0  3⎦\n",
            "m_A(x) = x**2 - 5*x + 6\n",
            "?_A(x) = x**3 - 7*x**2 + 16*x - 12\n",
            "Degrees: deg(m_A) = 2 , deg(?_A) = 3\n",
            "Does m_A divide ?_A? True\n",
            "\n",
            "Singular matrix C:\n",
            "⎡1  2⎤\n",
            "⎢    ⎥\n",
            "⎣0  0⎦\n",
            "m_A(x) = x**2 - x\n",
            "?_A(x) = x**2 - x\n",
            "Degrees: deg(m_A) = 2 , deg(?_A) = 2\n",
            "Does m_A divide ?_A? True\n"
          ]
        }
      ],
      "source": [
        "import sympy as sp\n",
        "x = sp.symbols('x')\n",
        "\n",
        "def compare_matrix(A, name=\"A\"):\n",
        "    mA = minimal_polynomial_via_linear(A)\n",
        "    charpoly = A.charpoly(x).as_poly().monic()\n",
        "    print(f\"\\n{name}:\")\n",
        "    sp.pprint(A)\n",
        "    print(\"m_A(x) =\", mA.as_expr())\n",
        "    print(\"?_A(x) =\", charpoly.as_expr())\n",
        "    print(\"Degrees: deg(m_A) =\", mA.degree(), \", deg(?_A) =\", charpoly.degree())\n",
        "    print(\"Does m_A divide ?_A?\", sp.rem(charpoly, mA, x) == 0)\n",
        "\n",
        "# Example 1: Jordan block\n",
        "J = sp.Matrix([[2,1,0],\n",
        "               [0,2,1],\n",
        "               [0,0,2]])\n",
        "compare_matrix(J, \"Jordan block 3x3 with eigenvalue 2\")\n",
        "\n",
        "# Example 2: Diagonal with distinct eigenvalues\n",
        "D = sp.Matrix([[2,0],\n",
        "               [0,3]])\n",
        "compare_matrix(D, \"Diagonal with eigenvalues 2,3\")\n",
        "\n",
        "# Example 3: Diagonal with repeated eigenvalue\n",
        "B = sp.Matrix([[2,0,0],\n",
        "               [0,2,0],\n",
        "               [0,0,3]])\n",
        "compare_matrix(B, \"Diagonal with double eigenvalue 2 and one eigenvalue 3\")\n",
        "\n",
        "# Example 4: Singular non-diagonal matrix\n",
        "C = sp.Matrix([[1,2],\n",
        "               [0,0]])\n",
        "compare_matrix(C, \"Singular matrix C\")"
      ]
    }
  ],
  "metadata": {
    "kernelspec": {
      "display_name": "Python 3",
      "language": "python",
      "name": "python3"
    },
    "language_info": {
      "name": "python",
      "version": "3.x"
    },
    "colab": {
      "provenance": []
    }
  },
  "nbformat": 4,
  "nbformat_minor": 0
}